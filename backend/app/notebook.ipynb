{
 "cells": [
  {
   "cell_type": "code",
   "execution_count": null,
   "metadata": {},
   "outputs": [],
   "source": [
    "from chemspipy import ChemSpider\n",
    "cs = ChemSpider('BGj25LdqRQpBeD0jauPQC0U4AzVLw2lK')\n",
    "c1 = cs.get_compound(236)  # Specify compound by ChemSpider ID\n",
    "c2 = cs.search('benzene')  # Search using name, SMILES, InChI, InChIKey, etc."
   ]
  },
  {
   "cell_type": "code",
   "execution_count": null,
   "metadata": {},
   "outputs": [],
   "source": []
  }
 ],
 "metadata": {
  "language_info": {
   "name": "python"
  },
  "orig_nbformat": 4
 },
 "nbformat": 4,
 "nbformat_minor": 2
}
